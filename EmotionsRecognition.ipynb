{
  "cells": [
    {
      "cell_type": "code",
      "execution_count": 1,
      "metadata": {
        "colab": {
          "base_uri": "https://localhost:8080/",
          "height": 204
        },
        "colab_type": "code",
        "id": "EgFwaDhMbJVm",
        "outputId": "19c11299-b8b5-4fec-9892-c25da63b149a"
      },
      "outputs": [
        {
          "name": "stdout",
          "output_type": "stream",
          "text": [
            "Requirement already satisfied: librosa in c:\\users\\rihan\\miniconda3\\envs\\env\\lib\\site-packages (0.10.1)\n",
            "Requirement already satisfied: audioread>=2.1.9 in c:\\users\\rihan\\miniconda3\\envs\\env\\lib\\site-packages (from librosa) (3.0.0)\n",
            "Requirement already satisfied: numpy!=1.22.0,!=1.22.1,!=1.22.2,>=1.20.3 in c:\\users\\rihan\\miniconda3\\envs\\env\\lib\\site-packages (from librosa) (1.24.4)\n",
            "Requirement already satisfied: scipy>=1.2.0 in c:\\users\\rihan\\miniconda3\\envs\\env\\lib\\site-packages (from librosa) (1.10.1)\n",
            "Requirement already satisfied: scikit-learn>=0.20.0 in c:\\users\\rihan\\miniconda3\\envs\\env\\lib\\site-packages (from librosa) (1.3.0)\n",
            "Requirement already satisfied: joblib>=0.14 in c:\\users\\rihan\\miniconda3\\envs\\env\\lib\\site-packages (from librosa) (1.3.2)\n",
            "Requirement already satisfied: decorator>=4.3.0 in c:\\users\\rihan\\miniconda3\\envs\\env\\lib\\site-packages (from librosa) (5.1.1)\n",
            "Requirement already satisfied: numba>=0.51.0 in c:\\users\\rihan\\miniconda3\\envs\\env\\lib\\site-packages (from librosa) (0.57.1)\n",
            "Requirement already satisfied: soundfile>=0.12.1 in c:\\users\\rihan\\miniconda3\\envs\\env\\lib\\site-packages (from librosa) (0.12.1)\n",
            "Requirement already satisfied: pooch>=1.0 in c:\\users\\rihan\\miniconda3\\envs\\env\\lib\\site-packages (from librosa) (1.7.0)\n",
            "Requirement already satisfied: soxr>=0.3.2 in c:\\users\\rihan\\miniconda3\\envs\\env\\lib\\site-packages (from librosa) (0.3.6)\n",
            "Requirement already satisfied: typing-extensions>=4.1.1 in c:\\users\\rihan\\miniconda3\\envs\\env\\lib\\site-packages (from librosa) (4.7.1)\n",
            "Requirement already satisfied: lazy-loader>=0.1 in c:\\users\\rihan\\miniconda3\\envs\\env\\lib\\site-packages (from librosa) (0.3)\n",
            "Requirement already satisfied: msgpack>=1.0 in c:\\users\\rihan\\miniconda3\\envs\\env\\lib\\site-packages (from librosa) (1.0.5)\n",
            "Requirement already satisfied: llvmlite<0.41,>=0.40.0dev0 in c:\\users\\rihan\\miniconda3\\envs\\env\\lib\\site-packages (from numba>=0.51.0->librosa) (0.40.1)\n",
            "Requirement already satisfied: importlib-metadata in c:\\users\\rihan\\miniconda3\\envs\\env\\lib\\site-packages (from numba>=0.51.0->librosa) (6.8.0)\n",
            "Requirement already satisfied: platformdirs>=2.5.0 in c:\\users\\rihan\\miniconda3\\envs\\env\\lib\\site-packages (from pooch>=1.0->librosa) (3.10.0)\n",
            "Requirement already satisfied: packaging>=20.0 in c:\\users\\rihan\\miniconda3\\envs\\env\\lib\\site-packages (from pooch>=1.0->librosa) (23.1)\n",
            "Requirement already satisfied: requests>=2.19.0 in c:\\users\\rihan\\miniconda3\\envs\\env\\lib\\site-packages (from pooch>=1.0->librosa) (2.31.0)\n",
            "Requirement already satisfied: threadpoolctl>=2.0.0 in c:\\users\\rihan\\miniconda3\\envs\\env\\lib\\site-packages (from scikit-learn>=0.20.0->librosa) (3.2.0)\n",
            "Requirement already satisfied: cffi>=1.0 in c:\\users\\rihan\\miniconda3\\envs\\env\\lib\\site-packages (from soundfile>=0.12.1->librosa) (1.15.1)\n",
            "Requirement already satisfied: pycparser in c:\\users\\rihan\\miniconda3\\envs\\env\\lib\\site-packages (from cffi>=1.0->soundfile>=0.12.1->librosa) (2.21)\n",
            "Requirement already satisfied: charset-normalizer<4,>=2 in c:\\users\\rihan\\miniconda3\\envs\\env\\lib\\site-packages (from requests>=2.19.0->pooch>=1.0->librosa) (3.2.0)\n",
            "Requirement already satisfied: idna<4,>=2.5 in c:\\users\\rihan\\miniconda3\\envs\\env\\lib\\site-packages (from requests>=2.19.0->pooch>=1.0->librosa) (3.4)\n",
            "Requirement already satisfied: urllib3<3,>=1.21.1 in c:\\users\\rihan\\miniconda3\\envs\\env\\lib\\site-packages (from requests>=2.19.0->pooch>=1.0->librosa) (2.0.4)\n",
            "Requirement already satisfied: certifi>=2017.4.17 in c:\\users\\rihan\\miniconda3\\envs\\env\\lib\\site-packages (from requests>=2.19.0->pooch>=1.0->librosa) (2023.7.22)\n",
            "Requirement already satisfied: zipp>=0.5 in c:\\users\\rihan\\miniconda3\\envs\\env\\lib\\site-packages (from importlib-metadata->numba>=0.51.0->librosa) (3.16.2)\n"
          ]
        },
        {
          "name": "stderr",
          "output_type": "stream",
          "text": [
            "WARNING: Ignoring invalid distribution -oundfile (c:\\users\\rihan\\miniconda3\\envs\\env\\lib\\site-packages)\n",
            "WARNING: Ignoring invalid distribution -rotobuf (c:\\users\\rihan\\miniconda3\\envs\\env\\lib\\site-packages)\n",
            "WARNING: Ignoring invalid distribution -umba (c:\\users\\rihan\\miniconda3\\envs\\env\\lib\\site-packages)\n",
            "WARNING: Ignoring invalid distribution -oundfile (c:\\users\\rihan\\miniconda3\\envs\\env\\lib\\site-packages)\n",
            "WARNING: Ignoring invalid distribution -rotobuf (c:\\users\\rihan\\miniconda3\\envs\\env\\lib\\site-packages)\n",
            "WARNING: Ignoring invalid distribution -umba (c:\\users\\rihan\\miniconda3\\envs\\env\\lib\\site-packages)\n"
          ]
        },
        {
          "name": "stdout",
          "output_type": "stream",
          "text": [
            "Requirement already satisfied: matplotlib in c:\\users\\rihan\\miniconda3\\envs\\env\\lib\\site-packages (3.7.2)\n",
            "Requirement already satisfied: contourpy>=1.0.1 in c:\\users\\rihan\\miniconda3\\envs\\env\\lib\\site-packages (from matplotlib) (1.1.0)\n",
            "Requirement already satisfied: cycler>=0.10 in c:\\users\\rihan\\miniconda3\\envs\\env\\lib\\site-packages (from matplotlib) (0.11.0)\n",
            "Requirement already satisfied: fonttools>=4.22.0 in c:\\users\\rihan\\miniconda3\\envs\\env\\lib\\site-packages (from matplotlib) (4.42.0)\n",
            "Requirement already satisfied: kiwisolver>=1.0.1 in c:\\users\\rihan\\miniconda3\\envs\\env\\lib\\site-packages (from matplotlib) (1.4.4)\n",
            "Requirement already satisfied: numpy>=1.20 in c:\\users\\rihan\\miniconda3\\envs\\env\\lib\\site-packages (from matplotlib) (1.24.4)\n",
            "Requirement already satisfied: packaging>=20.0 in c:\\users\\rihan\\miniconda3\\envs\\env\\lib\\site-packages (from matplotlib) (23.1)\n",
            "Requirement already satisfied: pillow>=6.2.0 in c:\\users\\rihan\\miniconda3\\envs\\env\\lib\\site-packages (from matplotlib) (9.5.0)\n",
            "Requirement already satisfied: pyparsing<3.1,>=2.3.1 in c:\\users\\rihan\\miniconda3\\envs\\env\\lib\\site-packages (from matplotlib) (3.0.9)\n",
            "Requirement already satisfied: python-dateutil>=2.7 in c:\\users\\rihan\\miniconda3\\envs\\env\\lib\\site-packages (from matplotlib) (2.8.2)\n",
            "Requirement already satisfied: importlib-resources>=3.2.0 in c:\\users\\rihan\\miniconda3\\envs\\env\\lib\\site-packages (from matplotlib) (5.2.0)\n",
            "Requirement already satisfied: zipp>=3.1.0 in c:\\users\\rihan\\miniconda3\\envs\\env\\lib\\site-packages (from importlib-resources>=3.2.0->matplotlib) (3.16.2)\n",
            "Requirement already satisfied: six>=1.5 in c:\\users\\rihan\\miniconda3\\envs\\env\\lib\\site-packages (from python-dateutil>=2.7->matplotlib) (1.16.0)\n"
          ]
        },
        {
          "name": "stderr",
          "output_type": "stream",
          "text": [
            "WARNING: Ignoring invalid distribution -oundfile (c:\\users\\rihan\\miniconda3\\envs\\env\\lib\\site-packages)\n",
            "WARNING: Ignoring invalid distribution -rotobuf (c:\\users\\rihan\\miniconda3\\envs\\env\\lib\\site-packages)\n",
            "WARNING: Ignoring invalid distribution -umba (c:\\users\\rihan\\miniconda3\\envs\\env\\lib\\site-packages)\n",
            "WARNING: Ignoring invalid distribution -oundfile (c:\\users\\rihan\\miniconda3\\envs\\env\\lib\\site-packages)\n",
            "WARNING: Ignoring invalid distribution -rotobuf (c:\\users\\rihan\\miniconda3\\envs\\env\\lib\\site-packages)\n",
            "WARNING: Ignoring invalid distribution -umba (c:\\users\\rihan\\miniconda3\\envs\\env\\lib\\site-packages)\n"
          ]
        },
        {
          "name": "stdout",
          "output_type": "stream",
          "text": [
            "Requirement already satisfied: numpy in c:\\users\\rihan\\miniconda3\\envs\\env\\lib\\site-packages (1.24.4)\n"
          ]
        },
        {
          "name": "stderr",
          "output_type": "stream",
          "text": [
            "WARNING: Ignoring invalid distribution -oundfile (c:\\users\\rihan\\miniconda3\\envs\\env\\lib\\site-packages)\n",
            "WARNING: Ignoring invalid distribution -rotobuf (c:\\users\\rihan\\miniconda3\\envs\\env\\lib\\site-packages)\n",
            "WARNING: Ignoring invalid distribution -umba (c:\\users\\rihan\\miniconda3\\envs\\env\\lib\\site-packages)\n",
            "WARNING: Ignoring invalid distribution -oundfile (c:\\users\\rihan\\miniconda3\\envs\\env\\lib\\site-packages)\n",
            "WARNING: Ignoring invalid distribution -rotobuf (c:\\users\\rihan\\miniconda3\\envs\\env\\lib\\site-packages)\n",
            "WARNING: Ignoring invalid distribution -umba (c:\\users\\rihan\\miniconda3\\envs\\env\\lib\\site-packages)\n"
          ]
        }
      ],
      "source": [
        "!pip install librosa\n",
        "!pip install matplotlib\n",
        "!pip install numpy\n"
      ]
    },
    {
      "cell_type": "code",
      "execution_count": 2,
      "metadata": {
        "colab": {},
        "colab_type": "code",
        "id": "rxI4xzngdS-e"
      },
      "outputs": [],
      "source": [
        "import librosa\n",
        "from librosa import display\n",
        "import numpy as np\n",
        "import matplotlib as plt\n",
        "\n",
        "data, sampling_rate = librosa.load('C:/Users/rihan/RAVDESS/Actor_01/03-01-01-01-01-01-01.wav')"
      ]
    },
    {
      "cell_type": "code",
      "execution_count": 3,
      "metadata": {
        "colab": {
          "base_uri": "https://localhost:8080/",
          "height": 364
        },
        "colab_type": "code",
        "id": "WgaSHtCIdtX2",
        "outputId": "d6474d00-de9a-4384-d1ba-f2a722bb3cd1"
      },
      "outputs": [
        {
          "data": {
            "image/png": "[encoded data removed]",
            "text/plain": [
              "<Figure size 1200x400 with 1 Axes>"
            ]
          },
          "metadata": {},
          "output_type": "display_data"
        }
      ],
      "source": [
        "%matplotlib inline\n",
        "import os\n",
        "import pandas as pd\n",
        "import glob\n",
        "import matplotlib.pyplot as plt\n",
        "import librosa\n",
        "\n",
        "plt.figure(figsize=(12, 4))\n",
        "plt.plot(data)\n",
        "plt.xlabel('Sample')\n",
        "plt.ylabel('Amplitude')\n",
        "plt.title('Waveform')\n",
        "plt.show()\n"
      ]
    },
    {
      "cell_type": "code",
      "execution_count": 4,
      "metadata": {
        "colab": {},
        "colab_type": "code",
        "id": "AKvuF--gd6F-"
      },
      "outputs": [],
      "source": [
        "import os\n",
        "import librosa\n",
        "import numpy as np\n",
        "\n",
        "true_label=[]\n",
        "path = 'C:/Users/rihan/RAVDESS'\n",
        "lst = []\n",
        "\n",
        "for subdir, dirs, files in os.walk(path):\n",
        "    for file in files:\n",
        "        # Check if the file ends with .wav\n",
        "        if file.endswith(\".wav\"):\n",
        "            try:\n",
        "                # Load audio file using librosa, compute MFCCs\n",
        "                X, sample_rate = librosa.load(os.path.join(subdir, file), res_type='kaiser_fast')\n",
        "                mfccs = np.mean(librosa.feature.mfcc(y=X, sr=sample_rate, n_mfcc=40).T, axis=0)\n",
        "                emotion_label = file[6:8] \n",
        "                true_label.append(emotion_label)\n",
        "                arr = mfccs, emotion_label\n",
        "                lst.append(arr)\n",
        "                \n",
        "            except (ValueError, FileNotFoundError, Exception) as e:\n",
        "                # Handle specific errors during file processing\n",
        "                print(f\"Error processing {file}: {e}\")\n",
        "                continue\n"
      ]
    },
    {
      "cell_type": "code",
      "execution_count": 5,
      "metadata": {},
      "outputs": [],
      "source": [
        "X, y = zip(*lst)\n"
      ]
    },
    {
      "cell_type": "code",
      "execution_count": 6,
      "metadata": {},
      "outputs": [],
      "source": [
        "from sklearn.model_selection import train_test_split\n",
        "\n",
        "X_train, X_test, y_train, y_test = train_test_split(X, y, test_size=0.33, random_state=42)"
      ]
    },
    {
      "cell_type": "code",
      "execution_count": 7,
      "metadata": {
        "colab": {
          "base_uri": "https://localhost:8080/",
          "height": 34
        },
        "colab_type": "code",
        "id": "VzvBRTJIlIE9",
        "outputId": "2139450f-efb0-40cf-fea1-be26cea18db1"
      },
      "outputs": [
        {
          "data": {
            "text/plain": [
              "((3951, 40), (3951,))"
            ]
          },
          "execution_count": 7,
          "metadata": {},
          "output_type": "execute_result"
        }
      ],
      "source": [
        "import numpy as np\n",
        "X_train = np.asarray(X)\n",
        "y_train = np.asarray(y)\n",
        "\n",
        "X_train.shape, y_train.shape"
      ]
    },
    {
      "cell_type": "code",
      "execution_count": 8,
      "metadata": {
        "colab": {},
        "colab_type": "code",
        "id": "Q-Xgb5NslTBO"
      },
      "outputs": [],
      "source": [
        "from sklearn.model_selection import train_test_split\n",
        "\n",
        "X_train, X_test, y_train, y_test = train_test_split(X, y, test_size=0.33, random_state=42)"
      ]
    },
    {
      "cell_type": "code",
      "execution_count": 9,
      "metadata": {
        "colab": {},
        "colab_type": "code",
        "id": "W4i187-Pe-w5"
      },
      "outputs": [],
      "source": [
        "x_traincnn = np.expand_dims(X_train, axis=2)\n",
        "x_testcnn = np.expand_dims(X_test, axis=2)\n",
        "y_train = np.array(y_train)\n",
        "y_test = np.array(y_test)\n",
        "y_train_int = y_train.astype(int)\n",
        "y_test_int = y_test.astype(int)"
      ]
    },
    {
      "cell_type": "code",
      "execution_count": 10,
      "metadata": {},
      "outputs": [
        {
          "name": "stdout",
          "output_type": "stream",
          "text": [
            "[8 4 3 ... 4 7 6]\n"
          ]
        }
      ],
      "source": [
        "print(y_train_int)"
      ]
    },
    {
      "cell_type": "code",
      "execution_count": 11,
      "metadata": {
        "colab": {
          "base_uri": "https://localhost:8080/",
          "height": 34
        },
        "colab_type": "code",
        "id": "vnvoCRX1gQCh",
        "outputId": "9ec5dde1-47c6-43ec-bde4-d5cb9260bf75"
      },
      "outputs": [
        {
          "data": {
            "text/plain": [
              "((2647, 40, 1), (1304, 40, 1))"
            ]
          },
          "execution_count": 11,
          "metadata": {},
          "output_type": "execute_result"
        }
      ],
      "source": [
        "x_traincnn.shape, x_testcnn.shape"
      ]
    },
    {
      "cell_type": "code",
      "execution_count": 12,
      "metadata": {},
      "outputs": [
        {
          "name": "stdout",
          "output_type": "stream",
          "text": [
            "[PhysicalDevice(name='/physical_device:GPU:0', device_type='GPU')]\n"
          ]
        }
      ],
      "source": [
        "import tensorflow as tf\n",
        "\n",
        "gpus = tf.config.experimental.list_physical_devices('GPU')\n",
        "print(gpus)\n",
        "for gpu in gpus: \n",
        "    tf.config.experimental.set_memory_growth(gpu, True)"
      ]
    },
    {
      "cell_type": "code",
      "execution_count": 13,
      "metadata": {},
      "outputs": [
        {
          "data": {
            "text/plain": [
              "'2.10.0'"
            ]
          },
          "execution_count": 13,
          "metadata": {},
          "output_type": "execute_result"
        }
      ],
      "source": [
        "tf.__version__"
      ]
    },
    {
      "cell_type": "code",
      "execution_count": 41,
      "metadata": {
        "colab": {
          "base_uri": "https://localhost:8080/",
          "height": 34
        },
        "colab_type": "code",
        "id": "HZOGIpuefCd3",
        "outputId": "a6e8069b-21fe-4cbe-df88-eb0e5482833f"
      },
      "outputs": [],
      "source": [
        "import tensorflow as tf\n",
        "import numpy as np\n",
        "import matplotlib.pyplot as plt\n",
        "import tensorflow as tf\n",
        "from matplotlib.pyplot import specgram\n",
        "import keras\n",
        "from keras.preprocessing import sequence\n",
        "from keras.models import Sequential\n",
        "from keras.layers import Dense, Embedding\n",
        "from keras.layers import LSTM\n",
        "from keras.preprocessing.text import Tokenizer\n",
        "from tensorflow.keras.preprocessing.sequence import pad_sequences\n",
        "from tensorflow.keras.utils import to_categorical\n",
        "from tensorflow.keras.layers import Input, Flatten, Dropout, Activation,BatchNormalization\n",
        "from tensorflow.keras.layers import Conv1D, MaxPooling1D, AveragePooling1D\n",
        "from tensorflow.keras.models import Model\n",
        "from tensorflow.keras.callbacks import ModelCheckpoint,EarlyStopping\n",
        "from sklearn.metrics import confusion_matrix\n",
        "from tensorflow import keras\n",
        "from keras import optimizers\n",
        "from tensorflow.keras.models import Sequential\n",
        "from tensorflow.keras.layers import Conv1D, MaxPooling1D, Dense, Flatten, Dropout, Activation,ELU\n",
        "# from tensorflow.keras.optimizers import RMSprop\n",
        "from tensorflow.keras.regularizers import l2\n",
        "\n",
        "model = Sequential()\n",
        "\n",
        "model.add(Conv1D(128, 5,padding='same',\n",
        "                 input_shape=(40,1)))\n",
        "model.add(Activation('relu'))\n",
        "model.add(Dropout(0.1))\n",
        "model.add(MaxPooling1D(pool_size=(8)))\n",
        "model.add(Conv1D(128, 5,padding='same',))\n",
        "model.add(Activation('relu'))\n",
        "model.add(Dropout(0.1))\n",
        "model.add(Flatten())\n",
        "model.add(Dense(10))\n",
        "model.add(Activation('softmax'))\n",
        "opt = keras.optimizers.RMSprop(lr=0.00005, rho=0.9, epsilon=None, decay=0.0)\n"
      ]
    },
    {
      "cell_type": "markdown",
      "metadata": {
        "colab_type": "text",
        "id": "LphftMIZzUvz"
      },
      "source": [
        "With *model.summary* we can see a recap of what we have build:"
      ]
    },
    {
      "cell_type": "code",
      "execution_count": 42,
      "metadata": {
        "colab": {
          "base_uri": "https://localhost:8080/",
          "height": 476
        },
        "colab_type": "code",
        "id": "pIWPB4Zgfic7",
        "outputId": "11185b2f-ad63-4afb-e916-7be596faa5d2"
      },
      "outputs": [
        {
          "name": "stdout",
          "output_type": "stream",
          "text": [
            "Model: \"sequential_2\"\n",
            "_________________________________________________________________\n",
            " Layer (type)                Output Shape              Param #   \n",
            "=================================================================\n",
            " conv1d_4 (Conv1D)           (None, 40, 128)           768       \n",
            "                                                                 \n",
            " activation_6 (Activation)   (None, 40, 128)           0         \n",
            "                                                                 \n",
            " dropout_4 (Dropout)         (None, 40, 128)           0         \n",
            "                                                                 \n",
            " max_pooling1d_2 (MaxPooling  (None, 5, 128)           0         \n",
            " 1D)                                                             \n",
            "                                                                 \n",
            " conv1d_5 (Conv1D)           (None, 5, 128)            82048     \n",
            "                                                                 \n",
            " activation_7 (Activation)   (None, 5, 128)            0         \n",
            "                                                                 \n",
            " dropout_5 (Dropout)         (None, 5, 128)            0         \n",
            "                                                                 \n",
            " flatten_2 (Flatten)         (None, 640)               0         \n",
            "                                                                 \n",
            " dense_2 (Dense)             (None, 10)                6410      \n",
            "                                                                 \n",
            " activation_8 (Activation)   (None, 10)                0         \n",
            "                                                                 \n",
            "=================================================================\n",
            "Total params: 89,226\n",
            "Trainable params: 89,226\n",
            "Non-trainable params: 0\n",
            "_________________________________________________________________\n"
          ]
        }
      ],
      "source": [
        "model.summary()"
      ]
    },
    {
      "cell_type": "markdown",
      "metadata": {
        "colab_type": "text",
        "id": "5qQSBeBhzcLu"
      },
      "source": [
        "Now we can compile and fit our model:"
      ]
    },
    {
      "cell_type": "code",
      "execution_count": 43,
      "metadata": {
        "colab": {},
        "colab_type": "code",
        "id": "iNI1znbsfpTx"
      },
      "outputs": [],
      "source": [
        "model.compile(loss='sparse_categorical_crossentropy',\n",
        "              optimizer=opt,\n",
        "              metrics=['accuracy'])\n",
        "\n"
      ]
    },
    {
      "cell_type": "code",
      "execution_count": 46,
      "metadata": {
        "colab": {
          "base_uri": "https://localhost:8080/",
          "height": 34034
        },
        "colab_type": "code",
        "id": "ktdF-nJKfq6F",
        "outputId": "edd88e8c-8989-4186-ef2d-57d6c6241c3f"
      },
      "outputs": [
        {
          "name": "stdout",
          "output_type": "stream",
          "text": [
            "Epoch 1/500\n",
            "331/331 [==============================] - 2s 7ms/step - loss: 0.3733 - accuracy: 0.8840 - val_loss: 0.5655 - val_accuracy: 0.8152\n",
            "Epoch 2/500\n",
            "331/331 [==============================] - 1s 4ms/step - loss: 0.3623 - accuracy: 0.8878 - val_loss: 0.5914 - val_accuracy: 0.8121\n",
            "Epoch 3/500\n",
            "331/331 [==============================] - 1s 4ms/step - loss: 0.3391 - accuracy: 0.8961 - val_loss: 0.5666 - val_accuracy: 0.8129\n",
            "Epoch 4/500\n",
            "331/331 [==============================] - 1s 4ms/step - loss: 0.3843 - accuracy: 0.8765 - val_loss: 0.5919 - val_accuracy: 0.8044\n",
            "Epoch 5/500\n",
            "331/331 [==============================] - 1s 4ms/step - loss: 0.3822 - accuracy: 0.8802 - val_loss: 0.5725 - val_accuracy: 0.8021\n",
            "Epoch 6/500\n",
            "331/331 [==============================] - 1s 4ms/step - loss: 0.3787 - accuracy: 0.8780 - val_loss: 0.5703 - val_accuracy: 0.8129\n",
            "Epoch 7/500\n",
            "331/331 [==============================] - 1s 4ms/step - loss: 0.3615 - accuracy: 0.8855 - val_loss: 0.5979 - val_accuracy: 0.7998\n",
            "Epoch 8/500\n",
            "331/331 [==============================] - 1s 4ms/step - loss: 0.3696 - accuracy: 0.8848 - val_loss: 0.5975 - val_accuracy: 0.8044\n",
            "Epoch 9/500\n",
            "331/331 [==============================] - 1s 4ms/step - loss: 0.3557 - accuracy: 0.8859 - val_loss: 0.5718 - val_accuracy: 0.8113\n",
            "Epoch 10/500\n",
            "331/331 [==============================] - 1s 4ms/step - loss: 0.3623 - accuracy: 0.8833 - val_loss: 0.6134 - val_accuracy: 0.8075\n",
            "Epoch 11/500\n",
            "331/331 [==============================] - 1s 4ms/step - loss: 0.3507 - accuracy: 0.8901 - val_loss: 0.6237 - val_accuracy: 0.7945\n",
            "Epoch 12/500\n",
            "331/331 [==============================] - 1s 4ms/step - loss: 0.3611 - accuracy: 0.8855 - val_loss: 0.5741 - val_accuracy: 0.8037\n",
            "Epoch 13/500\n",
            "331/331 [==============================] - 1s 4ms/step - loss: 0.3457 - accuracy: 0.8855 - val_loss: 0.5911 - val_accuracy: 0.8037\n",
            "Epoch 14/500\n",
            "331/331 [==============================] - 1s 4ms/step - loss: 0.3677 - accuracy: 0.8799 - val_loss: 0.5717 - val_accuracy: 0.8083\n",
            "Epoch 15/500\n",
            "331/331 [==============================] - 1s 4ms/step - loss: 0.3496 - accuracy: 0.8897 - val_loss: 0.6037 - val_accuracy: 0.8106\n",
            "Epoch 16/500\n",
            "331/331 [==============================] - 1s 3ms/step - loss: 0.3544 - accuracy: 0.8867 - val_loss: 0.5838 - val_accuracy: 0.8044\n",
            "Epoch 17/500\n",
            "331/331 [==============================] - 1s 4ms/step - loss: 0.3521 - accuracy: 0.8878 - val_loss: 0.5692 - val_accuracy: 0.8160\n",
            "Epoch 18/500\n",
            "331/331 [==============================] - 2s 7ms/step - loss: 0.3513 - accuracy: 0.8897 - val_loss: 0.5596 - val_accuracy: 0.8052\n",
            "Epoch 19/500\n",
            "331/331 [==============================] - 2s 7ms/step - loss: 0.3703 - accuracy: 0.8829 - val_loss: 0.5860 - val_accuracy: 0.8190\n",
            "Epoch 20/500\n",
            "331/331 [==============================] - 3s 8ms/step - loss: 0.3558 - accuracy: 0.8889 - val_loss: 0.5880 - val_accuracy: 0.8160\n",
            "Epoch 21/500\n",
            "331/331 [==============================] - 2s 7ms/step - loss: 0.3633 - accuracy: 0.8859 - val_loss: 0.6189 - val_accuracy: 0.8060\n",
            "Epoch 22/500\n",
            "331/331 [==============================] - 2s 7ms/step - loss: 0.3634 - accuracy: 0.8920 - val_loss: 0.6190 - val_accuracy: 0.7922\n",
            "Epoch 23/500\n",
            "331/331 [==============================] - 2s 7ms/step - loss: 0.3736 - accuracy: 0.8878 - val_loss: 0.5902 - val_accuracy: 0.8144\n",
            "Epoch 24/500\n",
            "331/331 [==============================] - 2s 7ms/step - loss: 0.3338 - accuracy: 0.8938 - val_loss: 0.6203 - val_accuracy: 0.8044\n",
            "Epoch 25/500\n",
            "331/331 [==============================] - 2s 7ms/step - loss: 0.3445 - accuracy: 0.8870 - val_loss: 0.5714 - val_accuracy: 0.8090\n",
            "Epoch 26/500\n",
            "331/331 [==============================] - 2s 7ms/step - loss: 0.3377 - accuracy: 0.8927 - val_loss: 0.5651 - val_accuracy: 0.8175\n",
            "Epoch 27/500\n",
            "331/331 [==============================] - 2s 7ms/step - loss: 0.3359 - accuracy: 0.8912 - val_loss: 0.5870 - val_accuracy: 0.8167\n",
            "Epoch 28/500\n",
            "331/331 [==============================] - 2s 7ms/step - loss: 0.3548 - accuracy: 0.8991 - val_loss: 0.5992 - val_accuracy: 0.8037\n",
            "Epoch 29/500\n",
            "331/331 [==============================] - 3s 9ms/step - loss: 0.3439 - accuracy: 0.8980 - val_loss: 0.5866 - val_accuracy: 0.8167\n",
            "Epoch 30/500\n",
            "331/331 [==============================] - 3s 8ms/step - loss: 0.3167 - accuracy: 0.9018 - val_loss: 0.5738 - val_accuracy: 0.8083\n",
            "Epoch 31/500\n",
            "331/331 [==============================] - 3s 9ms/step - loss: 0.3559 - accuracy: 0.8946 - val_loss: 0.6202 - val_accuracy: 0.8044\n",
            "Epoch 32/500\n",
            "331/331 [==============================] - 2s 7ms/step - loss: 0.3462 - accuracy: 0.8927 - val_loss: 0.5701 - val_accuracy: 0.8144\n",
            "Epoch 33/500\n",
            "331/331 [==============================] - 3s 10ms/step - loss: 0.3563 - accuracy: 0.8818 - val_loss: 0.5813 - val_accuracy: 0.8213\n",
            "Epoch 34/500\n",
            "331/331 [==============================] - 3s 8ms/step - loss: 0.3338 - accuracy: 0.8969 - val_loss: 0.5670 - val_accuracy: 0.8213\n",
            "Epoch 35/500\n",
            "331/331 [==============================] - 3s 9ms/step - loss: 0.3458 - accuracy: 0.8916 - val_loss: 0.5752 - val_accuracy: 0.8198\n",
            "Epoch 36/500\n",
            "331/331 [==============================] - 3s 9ms/step - loss: 0.3629 - accuracy: 0.8844 - val_loss: 0.5870 - val_accuracy: 0.8137\n",
            "Epoch 37/500\n",
            "331/331 [==============================] - 1s 4ms/step - loss: 0.3537 - accuracy: 0.8927 - val_loss: 0.5938 - val_accuracy: 0.8206\n",
            "Epoch 38/500\n",
            "331/331 [==============================] - 1s 4ms/step - loss: 0.3273 - accuracy: 0.8923 - val_loss: 0.5851 - val_accuracy: 0.8190\n",
            "Epoch 39/500\n",
            "331/331 [==============================] - 1s 4ms/step - loss: 0.3352 - accuracy: 0.8920 - val_loss: 0.5746 - val_accuracy: 0.8152\n",
            "Epoch 40/500\n",
            "331/331 [==============================] - 1s 4ms/step - loss: 0.3351 - accuracy: 0.8912 - val_loss: 0.5957 - val_accuracy: 0.8060\n",
            "Epoch 41/500\n",
            "331/331 [==============================] - 1s 4ms/step - loss: 0.3338 - accuracy: 0.8950 - val_loss: 0.5963 - val_accuracy: 0.8152\n",
            "Epoch 42/500\n",
            "331/331 [==============================] - 1s 4ms/step - loss: 0.3217 - accuracy: 0.8969 - val_loss: 0.5628 - val_accuracy: 0.8183\n",
            "Epoch 43/500\n",
            "331/331 [==============================] - 1s 4ms/step - loss: 0.3303 - accuracy: 0.9003 - val_loss: 0.5626 - val_accuracy: 0.8121\n",
            "Epoch 44/500\n",
            "331/331 [==============================] - 1s 4ms/step - loss: 0.3563 - accuracy: 0.8833 - val_loss: 0.5628 - val_accuracy: 0.8298\n",
            "Epoch 45/500\n",
            "331/331 [==============================] - 1s 4ms/step - loss: 0.3256 - accuracy: 0.8976 - val_loss: 0.5714 - val_accuracy: 0.8113\n",
            "Epoch 46/500\n",
            "331/331 [==============================] - 1s 3ms/step - loss: 0.3494 - accuracy: 0.8908 - val_loss: 0.5756 - val_accuracy: 0.8137\n",
            "Epoch 47/500\n",
            "331/331 [==============================] - 1s 4ms/step - loss: 0.3216 - accuracy: 0.9003 - val_loss: 0.5652 - val_accuracy: 0.8190\n",
            "Epoch 48/500\n",
            "331/331 [==============================] - 1s 4ms/step - loss: 0.3370 - accuracy: 0.8950 - val_loss: 0.5818 - val_accuracy: 0.8206\n",
            "Epoch 49/500\n",
            "331/331 [==============================] - 1s 4ms/step - loss: 0.3373 - accuracy: 0.8923 - val_loss: 0.5866 - val_accuracy: 0.8244\n",
            "Epoch 50/500\n",
            "331/331 [==============================] - 1s 3ms/step - loss: 0.3428 - accuracy: 0.8935 - val_loss: 0.5777 - val_accuracy: 0.8198\n",
            "Epoch 51/500\n",
            "331/331 [==============================] - 1s 4ms/step - loss: 0.3669 - accuracy: 0.8836 - val_loss: 0.5531 - val_accuracy: 0.8252\n",
            "Epoch 52/500\n",
            "331/331 [==============================] - 1s 4ms/step - loss: 0.3326 - accuracy: 0.9006 - val_loss: 0.5549 - val_accuracy: 0.8183\n",
            "Epoch 53/500\n",
            "331/331 [==============================] - 1s 4ms/step - loss: 0.3295 - accuracy: 0.9006 - val_loss: 0.5802 - val_accuracy: 0.8113\n",
            "Epoch 54/500\n",
            "331/331 [==============================] - 1s 4ms/step - loss: 0.3249 - accuracy: 0.8991 - val_loss: 0.5490 - val_accuracy: 0.8282\n",
            "Epoch 55/500\n",
            "331/331 [==============================] - 1s 4ms/step - loss: 0.3416 - accuracy: 0.8961 - val_loss: 0.6262 - val_accuracy: 0.8075\n",
            "Epoch 56/500\n",
            "331/331 [==============================] - 1s 4ms/step - loss: 0.3432 - accuracy: 0.8957 - val_loss: 0.5540 - val_accuracy: 0.8190\n",
            "Epoch 57/500\n",
            "331/331 [==============================] - 1s 4ms/step - loss: 0.3280 - accuracy: 0.8957 - val_loss: 0.5636 - val_accuracy: 0.8137\n",
            "Epoch 58/500\n",
            "331/331 [==============================] - 1s 3ms/step - loss: 0.3477 - accuracy: 0.8904 - val_loss: 0.6024 - val_accuracy: 0.8167\n",
            "Epoch 59/500\n",
            "331/331 [==============================] - 1s 4ms/step - loss: 0.3204 - accuracy: 0.8995 - val_loss: 0.5730 - val_accuracy: 0.8213\n",
            "Epoch 60/500\n",
            "331/331 [==============================] - 1s 4ms/step - loss: 0.3291 - accuracy: 0.8969 - val_loss: 0.5789 - val_accuracy: 0.8160\n",
            "Epoch 61/500\n",
            "331/331 [==============================] - 1s 4ms/step - loss: 0.3386 - accuracy: 0.8957 - val_loss: 0.5593 - val_accuracy: 0.8244\n",
            "Epoch 62/500\n",
            "331/331 [==============================] - 1s 4ms/step - loss: 0.3294 - accuracy: 0.8980 - val_loss: 0.5425 - val_accuracy: 0.8236\n",
            "Epoch 63/500\n",
            "331/331 [==============================] - 1s 4ms/step - loss: 0.3201 - accuracy: 0.8988 - val_loss: 0.5649 - val_accuracy: 0.8236\n",
            "Epoch 64/500\n",
            "331/331 [==============================] - 1s 4ms/step - loss: 0.3313 - accuracy: 0.8946 - val_loss: 0.5595 - val_accuracy: 0.8129\n",
            "Epoch 65/500\n",
            "331/331 [==============================] - 1s 4ms/step - loss: 0.3286 - accuracy: 0.9067 - val_loss: 0.5608 - val_accuracy: 0.8206\n",
            "Epoch 66/500\n",
            "331/331 [==============================] - 1s 4ms/step - loss: 0.3429 - accuracy: 0.8942 - val_loss: 0.5756 - val_accuracy: 0.8121\n",
            "Epoch 67/500\n",
            "331/331 [==============================] - 1s 4ms/step - loss: 0.3239 - accuracy: 0.9025 - val_loss: 0.5561 - val_accuracy: 0.8275\n",
            "Epoch 68/500\n",
            "331/331 [==============================] - 1s 4ms/step - loss: 0.3040 - accuracy: 0.9059 - val_loss: 0.6086 - val_accuracy: 0.8106\n",
            "Epoch 69/500\n",
            "331/331 [==============================] - 1s 4ms/step - loss: 0.3134 - accuracy: 0.9048 - val_loss: 0.5669 - val_accuracy: 0.8144\n",
            "Epoch 70/500\n",
            "331/331 [==============================] - 1s 4ms/step - loss: 0.3241 - accuracy: 0.9033 - val_loss: 0.5525 - val_accuracy: 0.8213\n",
            "Epoch 71/500\n",
            "331/331 [==============================] - 1s 4ms/step - loss: 0.3412 - accuracy: 0.8935 - val_loss: 0.5460 - val_accuracy: 0.8198\n",
            "Epoch 72/500\n",
            "331/331 [==============================] - 1s 4ms/step - loss: 0.3184 - accuracy: 0.8995 - val_loss: 0.5436 - val_accuracy: 0.8190\n",
            "Epoch 73/500\n",
            "331/331 [==============================] - 1s 3ms/step - loss: 0.3145 - accuracy: 0.8969 - val_loss: 0.5529 - val_accuracy: 0.8221\n",
            "Epoch 74/500\n",
            "331/331 [==============================] - 1s 3ms/step - loss: 0.3326 - accuracy: 0.8942 - val_loss: 0.5400 - val_accuracy: 0.8351\n",
            "Epoch 75/500\n",
            "331/331 [==============================] - 1s 4ms/step - loss: 0.3183 - accuracy: 0.9022 - val_loss: 0.5940 - val_accuracy: 0.8175\n",
            "Epoch 76/500\n",
            "331/331 [==============================] - 1s 4ms/step - loss: 0.3306 - accuracy: 0.8965 - val_loss: 0.5470 - val_accuracy: 0.8267\n",
            "Epoch 77/500\n",
            "331/331 [==============================] - 1s 4ms/step - loss: 0.3429 - accuracy: 0.8923 - val_loss: 0.5696 - val_accuracy: 0.8298\n",
            "Epoch 78/500\n",
            "331/331 [==============================] - 1s 4ms/step - loss: 0.3364 - accuracy: 0.8972 - val_loss: 0.5552 - val_accuracy: 0.8259\n",
            "Epoch 79/500\n",
            "331/331 [==============================] - 1s 3ms/step - loss: 0.3367 - accuracy: 0.8976 - val_loss: 0.5432 - val_accuracy: 0.8259\n",
            "Epoch 80/500\n",
            "331/331 [==============================] - 2s 5ms/step - loss: 0.3144 - accuracy: 0.9093 - val_loss: 0.5686 - val_accuracy: 0.8244\n",
            "Epoch 81/500\n",
            "331/331 [==============================] - 2s 7ms/step - loss: 0.3238 - accuracy: 0.9018 - val_loss: 0.5413 - val_accuracy: 0.8305\n",
            "Epoch 82/500\n",
            "331/331 [==============================] - 3s 8ms/step - loss: 0.3166 - accuracy: 0.9052 - val_loss: 0.5628 - val_accuracy: 0.8198\n",
            "Epoch 83/500\n",
            "331/331 [==============================] - 3s 9ms/step - loss: 0.3199 - accuracy: 0.8976 - val_loss: 0.5715 - val_accuracy: 0.8244\n",
            "Epoch 84/500\n",
            "331/331 [==============================] - 3s 10ms/step - loss: 0.3253 - accuracy: 0.8972 - val_loss: 0.6118 - val_accuracy: 0.8206\n",
            "Epoch 85/500\n",
            "331/331 [==============================] - 2s 7ms/step - loss: 0.3281 - accuracy: 0.9059 - val_loss: 0.5260 - val_accuracy: 0.8275\n",
            "Epoch 86/500\n",
            "331/331 [==============================] - 2s 8ms/step - loss: 0.3221 - accuracy: 0.9048 - val_loss: 0.6109 - val_accuracy: 0.8167\n",
            "Epoch 87/500\n",
            "331/331 [==============================] - 3s 8ms/step - loss: 0.3237 - accuracy: 0.8995 - val_loss: 0.5738 - val_accuracy: 0.8183\n",
            "Epoch 88/500\n",
            "331/331 [==============================] - 3s 8ms/step - loss: 0.3051 - accuracy: 0.9018 - val_loss: 0.5929 - val_accuracy: 0.8129\n",
            "Epoch 89/500\n",
            "331/331 [==============================] - 1s 4ms/step - loss: 0.3217 - accuracy: 0.8984 - val_loss: 0.5559 - val_accuracy: 0.8305\n",
            "Epoch 90/500\n",
            "331/331 [==============================] - 1s 3ms/step - loss: 0.3242 - accuracy: 0.8991 - val_loss: 0.5796 - val_accuracy: 0.8275\n",
            "Epoch 91/500\n",
            "331/331 [==============================] - 1s 3ms/step - loss: 0.3360 - accuracy: 0.8991 - val_loss: 0.5478 - val_accuracy: 0.8229\n",
            "Epoch 92/500\n",
            "331/331 [==============================] - 1s 3ms/step - loss: 0.3035 - accuracy: 0.9090 - val_loss: 0.5864 - val_accuracy: 0.8313\n",
            "Epoch 93/500\n",
            "331/331 [==============================] - 1s 4ms/step - loss: 0.3028 - accuracy: 0.9108 - val_loss: 0.5186 - val_accuracy: 0.8344\n",
            "Epoch 94/500\n",
            "331/331 [==============================] - 2s 7ms/step - loss: 0.3209 - accuracy: 0.9052 - val_loss: 0.5722 - val_accuracy: 0.8183\n",
            "Epoch 95/500\n",
            "331/331 [==============================] - 3s 9ms/step - loss: 0.3017 - accuracy: 0.9029 - val_loss: 0.5107 - val_accuracy: 0.8336\n",
            "Epoch 96/500\n",
            "331/331 [==============================] - 3s 8ms/step - loss: 0.3092 - accuracy: 0.9048 - val_loss: 0.5636 - val_accuracy: 0.8259\n",
            "Epoch 97/500\n",
            "331/331 [==============================] - 2s 7ms/step - loss: 0.3187 - accuracy: 0.9037 - val_loss: 0.5500 - val_accuracy: 0.8305\n",
            "Epoch 98/500\n",
            "331/331 [==============================] - 2s 7ms/step - loss: 0.3347 - accuracy: 0.8976 - val_loss: 0.5659 - val_accuracy: 0.8221\n",
            "Epoch 99/500\n",
            "331/331 [==============================] - 3s 11ms/step - loss: 0.3147 - accuracy: 0.9074 - val_loss: 0.5692 - val_accuracy: 0.8344\n",
            "Epoch 100/500\n",
            "331/331 [==============================] - 3s 8ms/step - loss: 0.2977 - accuracy: 0.9074 - val_loss: 0.5681 - val_accuracy: 0.8213\n",
            "Epoch 101/500\n",
            "331/331 [==============================] - 3s 8ms/step - loss: 0.3213 - accuracy: 0.9025 - val_loss: 0.5739 - val_accuracy: 0.8198\n",
            "Epoch 102/500\n",
            "331/331 [==============================] - 1s 4ms/step - loss: 0.3049 - accuracy: 0.9093 - val_loss: 0.5292 - val_accuracy: 0.8328\n",
            "Epoch 103/500\n",
            "331/331 [==============================] - 1s 4ms/step - loss: 0.2930 - accuracy: 0.9154 - val_loss: 0.5600 - val_accuracy: 0.8229\n",
            "Epoch 104/500\n",
            "331/331 [==============================] - 1s 4ms/step - loss: 0.3205 - accuracy: 0.9033 - val_loss: 0.5493 - val_accuracy: 0.8259\n",
            "Epoch 105/500\n",
            "331/331 [==============================] - 2s 5ms/step - loss: 0.3025 - accuracy: 0.9048 - val_loss: 0.5827 - val_accuracy: 0.8190\n",
            "Epoch 106/500\n",
            "331/331 [==============================] - 2s 5ms/step - loss: 0.3186 - accuracy: 0.9029 - val_loss: 0.5572 - val_accuracy: 0.8229\n",
            "Epoch 107/500\n",
            "331/331 [==============================] - 1s 4ms/step - loss: 0.3073 - accuracy: 0.9052 - val_loss: 0.5507 - val_accuracy: 0.8282\n",
            "Epoch 108/500\n",
            "331/331 [==============================] - 2s 5ms/step - loss: 0.2987 - accuracy: 0.9090 - val_loss: 0.5972 - val_accuracy: 0.8160\n",
            "Epoch 109/500\n",
            "331/331 [==============================] - 1s 4ms/step - loss: 0.3058 - accuracy: 0.9139 - val_loss: 0.5752 - val_accuracy: 0.8206\n",
            "Epoch 110/500\n",
            "331/331 [==============================] - 1s 4ms/step - loss: 0.3021 - accuracy: 0.9033 - val_loss: 0.5948 - val_accuracy: 0.8236\n",
            "Epoch 111/500\n",
            "331/331 [==============================] - 1s 4ms/step - loss: 0.3122 - accuracy: 0.8984 - val_loss: 0.5459 - val_accuracy: 0.8282\n",
            "Epoch 112/500\n",
            "331/331 [==============================] - 1s 4ms/step - loss: 0.3063 - accuracy: 0.9059 - val_loss: 0.5704 - val_accuracy: 0.8229\n",
            "Epoch 113/500\n",
            "331/331 [==============================] - 1s 4ms/step - loss: 0.3039 - accuracy: 0.9097 - val_loss: 0.5787 - val_accuracy: 0.8229\n",
            "Epoch 114/500\n",
            "331/331 [==============================] - 1s 4ms/step - loss: 0.3203 - accuracy: 0.9010 - val_loss: 0.5835 - val_accuracy: 0.8252\n",
            "Epoch 115/500\n",
            "331/331 [==============================] - 1s 4ms/step - loss: 0.3163 - accuracy: 0.9086 - val_loss: 0.5680 - val_accuracy: 0.8206\n",
            "Epoch 116/500\n",
            "331/331 [==============================] - 1s 4ms/step - loss: 0.3120 - accuracy: 0.9018 - val_loss: 0.5541 - val_accuracy: 0.8206\n",
            "Epoch 117/500\n",
            "331/331 [==============================] - 1s 4ms/step - loss: 0.3124 - accuracy: 0.9071 - val_loss: 0.5699 - val_accuracy: 0.8198\n",
            "Epoch 118/500\n",
            "331/331 [==============================] - 1s 4ms/step - loss: 0.2970 - accuracy: 0.9052 - val_loss: 0.5377 - val_accuracy: 0.8290\n",
            "Epoch 119/500\n",
            "331/331 [==============================] - 2s 5ms/step - loss: 0.3089 - accuracy: 0.9048 - val_loss: 0.5886 - val_accuracy: 0.8198\n",
            "Epoch 120/500\n",
            "331/331 [==============================] - 2s 7ms/step - loss: 0.2973 - accuracy: 0.9116 - val_loss: 0.5935 - val_accuracy: 0.8183\n",
            "Epoch 121/500\n",
            "331/331 [==============================] - 3s 10ms/step - loss: 0.3006 - accuracy: 0.9097 - val_loss: 0.6108 - val_accuracy: 0.8229\n",
            "Epoch 122/500\n",
            "331/331 [==============================] - 3s 10ms/step - loss: 0.2984 - accuracy: 0.9090 - val_loss: 0.5760 - val_accuracy: 0.8275\n",
            "Epoch 123/500\n",
            "331/331 [==============================] - 4s 12ms/step - loss: 0.3069 - accuracy: 0.9101 - val_loss: 0.5709 - val_accuracy: 0.8298\n",
            "Epoch 124/500\n",
            "331/331 [==============================] - 3s 8ms/step - loss: 0.2852 - accuracy: 0.9108 - val_loss: 0.5712 - val_accuracy: 0.8359\n",
            "Epoch 125/500\n",
            "331/331 [==============================] - 2s 7ms/step - loss: 0.3004 - accuracy: 0.9112 - val_loss: 0.5442 - val_accuracy: 0.8198\n",
            "Epoch 126/500\n",
            "331/331 [==============================] - 2s 6ms/step - loss: 0.2947 - accuracy: 0.9101 - val_loss: 0.6057 - val_accuracy: 0.8213\n",
            "Epoch 127/500\n",
            "331/331 [==============================] - 3s 8ms/step - loss: 0.2939 - accuracy: 0.9063 - val_loss: 0.5579 - val_accuracy: 0.8236\n",
            "Epoch 128/500\n",
            "331/331 [==============================] - 3s 9ms/step - loss: 0.3101 - accuracy: 0.9082 - val_loss: 0.5609 - val_accuracy: 0.8313\n",
            "Epoch 129/500\n",
            "331/331 [==============================] - 1s 4ms/step - loss: 0.3012 - accuracy: 0.9052 - val_loss: 0.5646 - val_accuracy: 0.8236\n",
            "Epoch 130/500\n",
            "331/331 [==============================] - 1s 4ms/step - loss: 0.3131 - accuracy: 0.9056 - val_loss: 0.5626 - val_accuracy: 0.8144\n",
            "Epoch 131/500\n",
            "331/331 [==============================] - 1s 4ms/step - loss: 0.3091 - accuracy: 0.9052 - val_loss: 0.5757 - val_accuracy: 0.8282\n",
            "Epoch 132/500\n",
            "331/331 [==============================] - 1s 4ms/step - loss: 0.2992 - accuracy: 0.9112 - val_loss: 0.5868 - val_accuracy: 0.8183\n",
            "Epoch 133/500\n",
            "331/331 [==============================] - 1s 4ms/step - loss: 0.2941 - accuracy: 0.9037 - val_loss: 0.5845 - val_accuracy: 0.8259\n",
            "Epoch 134/500\n",
            "331/331 [==============================] - 1s 4ms/step - loss: 0.3121 - accuracy: 0.9025 - val_loss: 0.5576 - val_accuracy: 0.8328\n",
            "Epoch 135/500\n",
            "331/331 [==============================] - 1s 4ms/step - loss: 0.3026 - accuracy: 0.9078 - val_loss: 0.5604 - val_accuracy: 0.8236\n",
            "Epoch 136/500\n",
            "331/331 [==============================] - 1s 4ms/step - loss: 0.2900 - accuracy: 0.9097 - val_loss: 0.5837 - val_accuracy: 0.8198\n",
            "Epoch 137/500\n",
            "331/331 [==============================] - 1s 3ms/step - loss: 0.3031 - accuracy: 0.9044 - val_loss: 0.5392 - val_accuracy: 0.8351\n",
            "Epoch 138/500\n",
            "331/331 [==============================] - 1s 4ms/step - loss: 0.3109 - accuracy: 0.9056 - val_loss: 0.5530 - val_accuracy: 0.8290\n",
            "Epoch 139/500\n",
            "331/331 [==============================] - 1s 3ms/step - loss: 0.3061 - accuracy: 0.9059 - val_loss: 0.5400 - val_accuracy: 0.8321\n",
            "Epoch 140/500\n",
            "331/331 [==============================] - 1s 3ms/step - loss: 0.2973 - accuracy: 0.9180 - val_loss: 0.5520 - val_accuracy: 0.8321\n",
            "Epoch 141/500\n",
            "331/331 [==============================] - 1s 3ms/step - loss: 0.3012 - accuracy: 0.9086 - val_loss: 0.5632 - val_accuracy: 0.8344\n",
            "Epoch 142/500\n",
            "331/331 [==============================] - 1s 4ms/step - loss: 0.3038 - accuracy: 0.9018 - val_loss: 0.5801 - val_accuracy: 0.8259\n",
            "Epoch 143/500\n",
            "331/331 [==============================] - 1s 4ms/step - loss: 0.2893 - accuracy: 0.9135 - val_loss: 0.5468 - val_accuracy: 0.8336\n",
            "Epoch 144/500\n",
            "331/331 [==============================] - 1s 4ms/step - loss: 0.3168 - accuracy: 0.9014 - val_loss: 0.5198 - val_accuracy: 0.8344\n",
            "Epoch 145/500\n",
            "331/331 [==============================] - 1s 4ms/step - loss: 0.2986 - accuracy: 0.9082 - val_loss: 0.5431 - val_accuracy: 0.8328\n",
            "Epoch 146/500\n",
            "113/331 [=========>....................] - ETA: 0s - loss: 0.3225 - accuracy: 0.9038"
          ]
        },
        {
          "ename": "KeyboardInterrupt",
          "evalue": "",
          "output_type": "error",
          "traceback": [
            "\u001b[1;31m---------------------------------------------------------------------------\u001b[0m",
            "\u001b[1;31mKeyboardInterrupt\u001b[0m                         Traceback (most recent call last)",
            "Cell \u001b[1;32mIn[46], line 1\u001b[0m\n\u001b[1;32m----> 1\u001b[0m \u001b[43mmodel\u001b[49m\u001b[38;5;241;43m.\u001b[39;49m\u001b[43mfit\u001b[49m\u001b[43m(\u001b[49m\u001b[43mx_traincnn\u001b[49m\u001b[43m,\u001b[49m\u001b[43m \u001b[49m\u001b[43my_train_int\u001b[49m\u001b[43m,\u001b[49m\u001b[43m \u001b[49m\u001b[43mbatch_size\u001b[49m\u001b[38;5;241;43m=\u001b[39;49m\u001b[38;5;241;43m8\u001b[39;49m\u001b[43m,\u001b[49m\u001b[43m \u001b[49m\u001b[43mepochs\u001b[49m\u001b[38;5;241;43m=\u001b[39;49m\u001b[38;5;241;43m500\u001b[39;49m\u001b[43m,\u001b[49m\u001b[43m \u001b[49m\u001b[43mvalidation_data\u001b[49m\u001b[38;5;241;43m=\u001b[39;49m\u001b[43m(\u001b[49m\u001b[43mx_testcnn\u001b[49m\u001b[43m,\u001b[49m\u001b[43m \u001b[49m\u001b[43my_test_int\u001b[49m\u001b[43m)\u001b[49m\u001b[43m)\u001b[49m\n",
            "File \u001b[1;32mc:\\Users\\rihan\\miniconda3\\envs\\env\\lib\\site-packages\\keras\\utils\\traceback_utils.py:65\u001b[0m, in \u001b[0;36mfilter_traceback.<locals>.error_handler\u001b[1;34m(*args, **kwargs)\u001b[0m\n\u001b[0;32m     63\u001b[0m filtered_tb \u001b[38;5;241m=\u001b[39m \u001b[38;5;28;01mNone\u001b[39;00m\n\u001b[0;32m     64\u001b[0m \u001b[38;5;28;01mtry\u001b[39;00m:\n\u001b[1;32m---> 65\u001b[0m     \u001b[38;5;28;01mreturn\u001b[39;00m \u001b[43mfn\u001b[49m\u001b[43m(\u001b[49m\u001b[38;5;241;43m*\u001b[39;49m\u001b[43margs\u001b[49m\u001b[43m,\u001b[49m\u001b[43m \u001b[49m\u001b[38;5;241;43m*\u001b[39;49m\u001b[38;5;241;43m*\u001b[39;49m\u001b[43mkwargs\u001b[49m\u001b[43m)\u001b[49m\n\u001b[0;32m     66\u001b[0m \u001b[38;5;28;01mexcept\u001b[39;00m \u001b[38;5;167;01mException\u001b[39;00m \u001b[38;5;28;01mas\u001b[39;00m e:\n\u001b[0;32m     67\u001b[0m     filtered_tb \u001b[38;5;241m=\u001b[39m _process_traceback_frames(e\u001b[38;5;241m.\u001b[39m__traceback__)\n",
            "File \u001b[1;32mc:\\Users\\rihan\\miniconda3\\envs\\env\\lib\\site-packages\\keras\\engine\\training.py:1564\u001b[0m, in \u001b[0;36mModel.fit\u001b[1;34m(self, x, y, batch_size, epochs, verbose, callbacks, validation_split, validation_data, shuffle, class_weight, sample_weight, initial_epoch, steps_per_epoch, validation_steps, validation_batch_size, validation_freq, max_queue_size, workers, use_multiprocessing)\u001b[0m\n\u001b[0;32m   1556\u001b[0m \u001b[38;5;28;01mwith\u001b[39;00m tf\u001b[38;5;241m.\u001b[39mprofiler\u001b[38;5;241m.\u001b[39mexperimental\u001b[38;5;241m.\u001b[39mTrace(\n\u001b[0;32m   1557\u001b[0m     \u001b[38;5;124m\"\u001b[39m\u001b[38;5;124mtrain\u001b[39m\u001b[38;5;124m\"\u001b[39m,\n\u001b[0;32m   1558\u001b[0m     epoch_num\u001b[38;5;241m=\u001b[39mepoch,\n\u001b[1;32m   (...)\u001b[0m\n\u001b[0;32m   1561\u001b[0m     _r\u001b[38;5;241m=\u001b[39m\u001b[38;5;241m1\u001b[39m,\n\u001b[0;32m   1562\u001b[0m ):\n\u001b[0;32m   1563\u001b[0m     callbacks\u001b[38;5;241m.\u001b[39mon_train_batch_begin(step)\n\u001b[1;32m-> 1564\u001b[0m     tmp_logs \u001b[38;5;241m=\u001b[39m \u001b[38;5;28;43mself\u001b[39;49m\u001b[38;5;241;43m.\u001b[39;49m\u001b[43mtrain_function\u001b[49m\u001b[43m(\u001b[49m\u001b[43miterator\u001b[49m\u001b[43m)\u001b[49m\n\u001b[0;32m   1565\u001b[0m     \u001b[38;5;28;01mif\u001b[39;00m data_handler\u001b[38;5;241m.\u001b[39mshould_sync:\n\u001b[0;32m   1566\u001b[0m         context\u001b[38;5;241m.\u001b[39masync_wait()\n",
            "File \u001b[1;32mc:\\Users\\rihan\\miniconda3\\envs\\env\\lib\\site-packages\\tensorflow\\python\\util\\traceback_utils.py:150\u001b[0m, in \u001b[0;36mfilter_traceback.<locals>.error_handler\u001b[1;34m(*args, **kwargs)\u001b[0m\n\u001b[0;32m    148\u001b[0m filtered_tb \u001b[38;5;241m=\u001b[39m \u001b[38;5;28;01mNone\u001b[39;00m\n\u001b[0;32m    149\u001b[0m \u001b[38;5;28;01mtry\u001b[39;00m:\n\u001b[1;32m--> 150\u001b[0m   \u001b[38;5;28;01mreturn\u001b[39;00m \u001b[43mfn\u001b[49m\u001b[43m(\u001b[49m\u001b[38;5;241;43m*\u001b[39;49m\u001b[43margs\u001b[49m\u001b[43m,\u001b[49m\u001b[43m \u001b[49m\u001b[38;5;241;43m*\u001b[39;49m\u001b[38;5;241;43m*\u001b[39;49m\u001b[43mkwargs\u001b[49m\u001b[43m)\u001b[49m\n\u001b[0;32m    151\u001b[0m \u001b[38;5;28;01mexcept\u001b[39;00m \u001b[38;5;167;01mException\u001b[39;00m \u001b[38;5;28;01mas\u001b[39;00m e:\n\u001b[0;32m    152\u001b[0m   filtered_tb \u001b[38;5;241m=\u001b[39m _process_traceback_frames(e\u001b[38;5;241m.\u001b[39m__traceback__)\n",
            "File \u001b[1;32mc:\\Users\\rihan\\miniconda3\\envs\\env\\lib\\site-packages\\tensorflow\\python\\eager\\def_function.py:915\u001b[0m, in \u001b[0;36mFunction.__call__\u001b[1;34m(self, *args, **kwds)\u001b[0m\n\u001b[0;32m    912\u001b[0m compiler \u001b[38;5;241m=\u001b[39m \u001b[38;5;124m\"\u001b[39m\u001b[38;5;124mxla\u001b[39m\u001b[38;5;124m\"\u001b[39m \u001b[38;5;28;01mif\u001b[39;00m \u001b[38;5;28mself\u001b[39m\u001b[38;5;241m.\u001b[39m_jit_compile \u001b[38;5;28;01melse\u001b[39;00m \u001b[38;5;124m\"\u001b[39m\u001b[38;5;124mnonXla\u001b[39m\u001b[38;5;124m\"\u001b[39m\n\u001b[0;32m    914\u001b[0m \u001b[38;5;28;01mwith\u001b[39;00m OptionalXlaContext(\u001b[38;5;28mself\u001b[39m\u001b[38;5;241m.\u001b[39m_jit_compile):\n\u001b[1;32m--> 915\u001b[0m   result \u001b[38;5;241m=\u001b[39m \u001b[38;5;28;43mself\u001b[39;49m\u001b[38;5;241;43m.\u001b[39;49m\u001b[43m_call\u001b[49m\u001b[43m(\u001b[49m\u001b[38;5;241;43m*\u001b[39;49m\u001b[43margs\u001b[49m\u001b[43m,\u001b[49m\u001b[43m \u001b[49m\u001b[38;5;241;43m*\u001b[39;49m\u001b[38;5;241;43m*\u001b[39;49m\u001b[43mkwds\u001b[49m\u001b[43m)\u001b[49m\n\u001b[0;32m    917\u001b[0m new_tracing_count \u001b[38;5;241m=\u001b[39m \u001b[38;5;28mself\u001b[39m\u001b[38;5;241m.\u001b[39mexperimental_get_tracing_count()\n\u001b[0;32m    918\u001b[0m without_tracing \u001b[38;5;241m=\u001b[39m (tracing_count \u001b[38;5;241m==\u001b[39m new_tracing_count)\n",
            "File \u001b[1;32mc:\\Users\\rihan\\miniconda3\\envs\\env\\lib\\site-packages\\tensorflow\\python\\eager\\def_function.py:947\u001b[0m, in \u001b[0;36mFunction._call\u001b[1;34m(self, *args, **kwds)\u001b[0m\n\u001b[0;32m    944\u001b[0m   \u001b[38;5;28mself\u001b[39m\u001b[38;5;241m.\u001b[39m_lock\u001b[38;5;241m.\u001b[39mrelease()\n\u001b[0;32m    945\u001b[0m   \u001b[38;5;66;03m# In this case we have created variables on the first call, so we run the\u001b[39;00m\n\u001b[0;32m    946\u001b[0m   \u001b[38;5;66;03m# defunned version which is guaranteed to never create variables.\u001b[39;00m\n\u001b[1;32m--> 947\u001b[0m   \u001b[38;5;28;01mreturn\u001b[39;00m \u001b[38;5;28;43mself\u001b[39;49m\u001b[38;5;241;43m.\u001b[39;49m\u001b[43m_stateless_fn\u001b[49m\u001b[43m(\u001b[49m\u001b[38;5;241;43m*\u001b[39;49m\u001b[43margs\u001b[49m\u001b[43m,\u001b[49m\u001b[43m \u001b[49m\u001b[38;5;241;43m*\u001b[39;49m\u001b[38;5;241;43m*\u001b[39;49m\u001b[43mkwds\u001b[49m\u001b[43m)\u001b[49m  \u001b[38;5;66;03m# pylint: disable=not-callable\u001b[39;00m\n\u001b[0;32m    948\u001b[0m \u001b[38;5;28;01melif\u001b[39;00m \u001b[38;5;28mself\u001b[39m\u001b[38;5;241m.\u001b[39m_stateful_fn \u001b[38;5;129;01mis\u001b[39;00m \u001b[38;5;129;01mnot\u001b[39;00m \u001b[38;5;28;01mNone\u001b[39;00m:\n\u001b[0;32m    949\u001b[0m   \u001b[38;5;66;03m# Release the lock early so that multiple threads can perform the call\u001b[39;00m\n\u001b[0;32m    950\u001b[0m   \u001b[38;5;66;03m# in parallel.\u001b[39;00m\n\u001b[0;32m    951\u001b[0m   \u001b[38;5;28mself\u001b[39m\u001b[38;5;241m.\u001b[39m_lock\u001b[38;5;241m.\u001b[39mrelease()\n",
            "File \u001b[1;32mc:\\Users\\rihan\\miniconda3\\envs\\env\\lib\\site-packages\\tensorflow\\python\\eager\\function.py:2496\u001b[0m, in \u001b[0;36mFunction.__call__\u001b[1;34m(self, *args, **kwargs)\u001b[0m\n\u001b[0;32m   2493\u001b[0m \u001b[38;5;28;01mwith\u001b[39;00m \u001b[38;5;28mself\u001b[39m\u001b[38;5;241m.\u001b[39m_lock:\n\u001b[0;32m   2494\u001b[0m   (graph_function,\n\u001b[0;32m   2495\u001b[0m    filtered_flat_args) \u001b[38;5;241m=\u001b[39m \u001b[38;5;28mself\u001b[39m\u001b[38;5;241m.\u001b[39m_maybe_define_function(args, kwargs)\n\u001b[1;32m-> 2496\u001b[0m \u001b[38;5;28;01mreturn\u001b[39;00m \u001b[43mgraph_function\u001b[49m\u001b[38;5;241;43m.\u001b[39;49m\u001b[43m_call_flat\u001b[49m\u001b[43m(\u001b[49m\n\u001b[0;32m   2497\u001b[0m \u001b[43m    \u001b[49m\u001b[43mfiltered_flat_args\u001b[49m\u001b[43m,\u001b[49m\u001b[43m \u001b[49m\u001b[43mcaptured_inputs\u001b[49m\u001b[38;5;241;43m=\u001b[39;49m\u001b[43mgraph_function\u001b[49m\u001b[38;5;241;43m.\u001b[39;49m\u001b[43mcaptured_inputs\u001b[49m\u001b[43m)\u001b[49m\n",
            "File \u001b[1;32mc:\\Users\\rihan\\miniconda3\\envs\\env\\lib\\site-packages\\tensorflow\\python\\eager\\function.py:1862\u001b[0m, in \u001b[0;36mConcreteFunction._call_flat\u001b[1;34m(self, args, captured_inputs, cancellation_manager)\u001b[0m\n\u001b[0;32m   1858\u001b[0m possible_gradient_type \u001b[38;5;241m=\u001b[39m gradients_util\u001b[38;5;241m.\u001b[39mPossibleTapeGradientTypes(args)\n\u001b[0;32m   1859\u001b[0m \u001b[38;5;28;01mif\u001b[39;00m (possible_gradient_type \u001b[38;5;241m==\u001b[39m gradients_util\u001b[38;5;241m.\u001b[39mPOSSIBLE_GRADIENT_TYPES_NONE\n\u001b[0;32m   1860\u001b[0m     \u001b[38;5;129;01mand\u001b[39;00m executing_eagerly):\n\u001b[0;32m   1861\u001b[0m   \u001b[38;5;66;03m# No tape is watching; skip to running the function.\u001b[39;00m\n\u001b[1;32m-> 1862\u001b[0m   \u001b[38;5;28;01mreturn\u001b[39;00m \u001b[38;5;28mself\u001b[39m\u001b[38;5;241m.\u001b[39m_build_call_outputs(\u001b[38;5;28;43mself\u001b[39;49m\u001b[38;5;241;43m.\u001b[39;49m\u001b[43m_inference_function\u001b[49m\u001b[38;5;241;43m.\u001b[39;49m\u001b[43mcall\u001b[49m\u001b[43m(\u001b[49m\n\u001b[0;32m   1863\u001b[0m \u001b[43m      \u001b[49m\u001b[43mctx\u001b[49m\u001b[43m,\u001b[49m\u001b[43m \u001b[49m\u001b[43margs\u001b[49m\u001b[43m,\u001b[49m\u001b[43m \u001b[49m\u001b[43mcancellation_manager\u001b[49m\u001b[38;5;241;43m=\u001b[39;49m\u001b[43mcancellation_manager\u001b[49m\u001b[43m)\u001b[49m)\n\u001b[0;32m   1864\u001b[0m forward_backward \u001b[38;5;241m=\u001b[39m \u001b[38;5;28mself\u001b[39m\u001b[38;5;241m.\u001b[39m_select_forward_and_backward_functions(\n\u001b[0;32m   1865\u001b[0m     args,\n\u001b[0;32m   1866\u001b[0m     possible_gradient_type,\n\u001b[0;32m   1867\u001b[0m     executing_eagerly)\n\u001b[0;32m   1868\u001b[0m forward_function, args_with_tangents \u001b[38;5;241m=\u001b[39m forward_backward\u001b[38;5;241m.\u001b[39mforward()\n",
            "File \u001b[1;32mc:\\Users\\rihan\\miniconda3\\envs\\env\\lib\\site-packages\\tensorflow\\python\\eager\\function.py:499\u001b[0m, in \u001b[0;36m_EagerDefinedFunction.call\u001b[1;34m(self, ctx, args, cancellation_manager)\u001b[0m\n\u001b[0;32m    497\u001b[0m \u001b[38;5;28;01mwith\u001b[39;00m _InterpolateFunctionError(\u001b[38;5;28mself\u001b[39m):\n\u001b[0;32m    498\u001b[0m   \u001b[38;5;28;01mif\u001b[39;00m cancellation_manager \u001b[38;5;129;01mis\u001b[39;00m \u001b[38;5;28;01mNone\u001b[39;00m:\n\u001b[1;32m--> 499\u001b[0m     outputs \u001b[38;5;241m=\u001b[39m \u001b[43mexecute\u001b[49m\u001b[38;5;241;43m.\u001b[39;49m\u001b[43mexecute\u001b[49m\u001b[43m(\u001b[49m\n\u001b[0;32m    500\u001b[0m \u001b[43m        \u001b[49m\u001b[38;5;28;43mstr\u001b[39;49m\u001b[43m(\u001b[49m\u001b[38;5;28;43mself\u001b[39;49m\u001b[38;5;241;43m.\u001b[39;49m\u001b[43msignature\u001b[49m\u001b[38;5;241;43m.\u001b[39;49m\u001b[43mname\u001b[49m\u001b[43m)\u001b[49m\u001b[43m,\u001b[49m\n\u001b[0;32m    501\u001b[0m \u001b[43m        \u001b[49m\u001b[43mnum_outputs\u001b[49m\u001b[38;5;241;43m=\u001b[39;49m\u001b[38;5;28;43mself\u001b[39;49m\u001b[38;5;241;43m.\u001b[39;49m\u001b[43m_num_outputs\u001b[49m\u001b[43m,\u001b[49m\n\u001b[0;32m    502\u001b[0m \u001b[43m        \u001b[49m\u001b[43minputs\u001b[49m\u001b[38;5;241;43m=\u001b[39;49m\u001b[43margs\u001b[49m\u001b[43m,\u001b[49m\n\u001b[0;32m    503\u001b[0m \u001b[43m        \u001b[49m\u001b[43mattrs\u001b[49m\u001b[38;5;241;43m=\u001b[39;49m\u001b[43mattrs\u001b[49m\u001b[43m,\u001b[49m\n\u001b[0;32m    504\u001b[0m \u001b[43m        \u001b[49m\u001b[43mctx\u001b[49m\u001b[38;5;241;43m=\u001b[39;49m\u001b[43mctx\u001b[49m\u001b[43m)\u001b[49m\n\u001b[0;32m    505\u001b[0m   \u001b[38;5;28;01melse\u001b[39;00m:\n\u001b[0;32m    506\u001b[0m     outputs \u001b[38;5;241m=\u001b[39m execute\u001b[38;5;241m.\u001b[39mexecute_with_cancellation(\n\u001b[0;32m    507\u001b[0m         \u001b[38;5;28mstr\u001b[39m(\u001b[38;5;28mself\u001b[39m\u001b[38;5;241m.\u001b[39msignature\u001b[38;5;241m.\u001b[39mname),\n\u001b[0;32m    508\u001b[0m         num_outputs\u001b[38;5;241m=\u001b[39m\u001b[38;5;28mself\u001b[39m\u001b[38;5;241m.\u001b[39m_num_outputs,\n\u001b[1;32m   (...)\u001b[0m\n\u001b[0;32m    511\u001b[0m         ctx\u001b[38;5;241m=\u001b[39mctx,\n\u001b[0;32m    512\u001b[0m         cancellation_manager\u001b[38;5;241m=\u001b[39mcancellation_manager)\n",
            "File \u001b[1;32mc:\\Users\\rihan\\miniconda3\\envs\\env\\lib\\site-packages\\tensorflow\\python\\eager\\execute.py:54\u001b[0m, in \u001b[0;36mquick_execute\u001b[1;34m(op_name, num_outputs, inputs, attrs, ctx, name)\u001b[0m\n\u001b[0;32m     52\u001b[0m \u001b[38;5;28;01mtry\u001b[39;00m:\n\u001b[0;32m     53\u001b[0m   ctx\u001b[38;5;241m.\u001b[39mensure_initialized()\n\u001b[1;32m---> 54\u001b[0m   tensors \u001b[38;5;241m=\u001b[39m \u001b[43mpywrap_tfe\u001b[49m\u001b[38;5;241;43m.\u001b[39;49m\u001b[43mTFE_Py_Execute\u001b[49m\u001b[43m(\u001b[49m\u001b[43mctx\u001b[49m\u001b[38;5;241;43m.\u001b[39;49m\u001b[43m_handle\u001b[49m\u001b[43m,\u001b[49m\u001b[43m \u001b[49m\u001b[43mdevice_name\u001b[49m\u001b[43m,\u001b[49m\u001b[43m \u001b[49m\u001b[43mop_name\u001b[49m\u001b[43m,\u001b[49m\n\u001b[0;32m     55\u001b[0m \u001b[43m                                      \u001b[49m\u001b[43minputs\u001b[49m\u001b[43m,\u001b[49m\u001b[43m \u001b[49m\u001b[43mattrs\u001b[49m\u001b[43m,\u001b[49m\u001b[43m \u001b[49m\u001b[43mnum_outputs\u001b[49m\u001b[43m)\u001b[49m\n\u001b[0;32m     56\u001b[0m \u001b[38;5;28;01mexcept\u001b[39;00m core\u001b[38;5;241m.\u001b[39m_NotOkStatusException \u001b[38;5;28;01mas\u001b[39;00m e:\n\u001b[0;32m     57\u001b[0m   \u001b[38;5;28;01mif\u001b[39;00m name \u001b[38;5;129;01mis\u001b[39;00m \u001b[38;5;129;01mnot\u001b[39;00m \u001b[38;5;28;01mNone\u001b[39;00m:\n",
            "\u001b[1;31mKeyboardInterrupt\u001b[0m: "
          ]
        }
      ],
      "source": [
        "model.fit(x_traincnn, y_train_int, batch_size=8, epochs=500, validation_data=(x_testcnn, y_test_int))"
      ]
    },
    {
      "cell_type": "markdown",
      "metadata": {
        "colab_type": "text",
        "id": "mFytY6LDzgJ0"
      },
      "source": [
        "Let's plot the loss:"
      ]
    },
    {
      "cell_type": "code",
      "execution_count": 34,
      "metadata": {
        "colab": {
          "base_uri": "https://localhost:8080/",
          "height": 294
        },
        "colab_type": "code",
        "id": "TFz4ClZov9gZ",
        "outputId": "46dcf1d8-4feb-40e0-b4e6-4bc25aeb835d"
      },
      "outputs": [
        {
          "data": {
            "image/png": "[encoded data removed]",
            "text/plain": [
              "<Figure size 640x480 with 1 Axes>"
            ]
          },
          "metadata": {},
          "output_type": "display_data"
        }
      ],
      "source": [
        "plt.plot(model.history['loss'])\n",
        "plt.plot(model.history['val_loss'])\n",
        "plt.title('model loss')\n",
        "plt.ylabel('loss')\n",
        "plt.xlabel('epoch')\n",
        "plt.legend(['train', 'test'], loc='upper left')\n",
        "plt.show()"
      ]
    },
    {
      "cell_type": "markdown",
      "metadata": {
        "colab_type": "text",
        "id": "Vf1W7LgP2DA5"
      },
      "source": [
        "\n",
        "\n",
        "And now let's plot the accuracy:"
      ]
    },
    {
      "cell_type": "code",
      "execution_count": 26,
      "metadata": {
        "colab": {
          "base_uri": "https://localhost:8080/",
          "height": 294
        },
        "colab_type": "code",
        "id": "8yyFBt7ASPUe",
        "outputId": "3b82ec7a-b61e-4101-a990-0b829f36d254"
      },
      "outputs": [
        {
          "data": {
            "image/png": "[encoded data removed]",
            "text/plain": [
              "<Figure size 640x480 with 1 Axes>"
            ]
          },
          "metadata": {},
          "output_type": "display_data"
        }
      ],
      "source": [
        "plt.plot(model.history['accuracy'])\n",
        "plt.plot(model.history['val_accuracy'])\n",
        "plt.title('model accuracy')\n",
        "plt.ylabel('accuracy')\n",
        "plt.xlabel('epoch')\n",
        "plt.legend(['train', 'test'], loc='upper left')\n",
        "plt.show()"
      ]
    },
    {
      "cell_type": "markdown",
      "metadata": {
        "colab_type": "text",
        "id": "x_ySPOyHxkZ3"
      },
      "source": [
        "# Save the model"
      ]
    },
    {
      "cell_type": "code",
      "execution_count": 27,
      "metadata": {
        "colab": {
          "base_uri": "https://localhost:8080/",
          "height": 34
        },
        "colab_type": "code",
        "id": "f5kRmoD-sdHj",
        "outputId": "66353b53-fd46-48b3-b3c8-550806b80f0c"
      },
      "outputs": [
        {
          "name": "stdout",
          "output_type": "stream",
          "text": [
            "Saved trained model at ./Emotion_Voice_Detection_Model_95.h5 \n"
          ]
        }
      ],
      "source": [
        "import os \n",
        "\n",
        "model_name = 'Emotion_Voice_Detection_Model_95.h5'\n",
        "save_dir = './'\n",
        "# Save model and weights\n",
        "if not os.path.isdir(save_dir):\n",
        "    os.makedirs(save_dir)\n",
        "model_path = os.path.join(save_dir, model_name)\n",
        "model.save(model_path)\n",
        "print('Saved trained model at %s ' % model_path)"
      ]
    },
    {
      "cell_type": "markdown",
      "metadata": {
        "colab_type": "text",
        "id": "MNUiznKNwUtJ"
      },
      "source": [
        "# Reloading the model to test it"
      ]
    },
    {
      "cell_type": "code",
      "execution_count": 47,
      "metadata": {
        "colab": {
          "base_uri": "https://localhost:8080/",
          "height": 476
        },
        "colab_type": "code",
        "id": "T4oAv6Kx8RBE",
        "outputId": "cf29c8b7-5aed-41ce-d5b5-d353137f0272"
      },
      "outputs": [
        {
          "name": "stdout",
          "output_type": "stream",
          "text": [
            "Model: \"sequential_4\"\n",
            "_________________________________________________________________\n",
            " Layer (type)                Output Shape              Param #   \n",
            "=================================================================\n",
            " conv1d_8 (Conv1D)           (None, 40, 128)           768       \n",
            "                                                                 \n",
            " activation_12 (Activation)  (None, 40, 128)           0         \n",
            "                                                                 \n",
            " dropout_8 (Dropout)         (None, 40, 128)           0         \n",
            "                                                                 \n",
            " max_pooling1d_4 (MaxPooling  (None, 10, 128)          0         \n",
            " 1D)                                                             \n",
            "                                                                 \n",
            " conv1d_9 (Conv1D)           (None, 10, 128)           82048     \n",
            "                                                                 \n",
            " activation_13 (Activation)  (None, 10, 128)           0         \n",
            "                                                                 \n",
            " dropout_9 (Dropout)         (None, 10, 128)           0         \n",
            "                                                                 \n",
            " flatten_4 (Flatten)         (None, 1280)              0         \n",
            "                                                                 \n",
            " dense_4 (Dense)             (None, 10)                12810     \n",
            "                                                                 \n",
            " activation_14 (Activation)  (None, 10)                0         \n",
            "                                                                 \n",
            "=================================================================\n",
            "Total params: 95,626\n",
            "Trainable params: 95,626\n",
            "Non-trainable params: 0\n",
            "_________________________________________________________________\n"
          ]
        }
      ],
      "source": [
        "loaded_model = keras.models.load_model('E:\\\\IPD\\\\Neural_Customized\\\\Emotion-Classification-Ravdess\\\\New_Emotion_Voice_Detection_Model.h5')\n",
        "loaded_model.summary()"
      ]
    },
    {
      "cell_type": "markdown",
      "metadata": {
        "colab_type": "text",
        "id": "FHtPzc0Y8hfZ"
      },
      "source": [
        "# Checking the accuracy of the loaded model"
      ]
    },
    {
      "cell_type": "code",
      "execution_count": 48,
      "metadata": {
        "colab": {
          "base_uri": "https://localhost:8080/",
          "height": 51
        },
        "colab_type": "code",
        "id": "qUi-Zjuf8hDB",
        "outputId": "9dabf117-af4e-40e6-f106-99aa65c5feae"
      },
      "outputs": [
        {
          "name": "stdout",
          "output_type": "stream",
          "text": [
            "41/41 [==============================] - 0s 6ms/step - loss: 0.4895 - accuracy: 0.9248\n",
            "Restored model, accuracy: 92.48%\n"
          ]
        }
      ],
      "source": [
        "loss, acc = loaded_model.evaluate(x_testcnn, y_test_int)\n",
        "print(\"Restored model, accuracy: {:5.2f}%\".format(100*acc))"
      ]
    },
    {
      "cell_type": "code",
      "execution_count": 23,
      "metadata": {},
      "outputs": [],
      "source": [
        "# import os\n",
        "# import librosa\n",
        "# import numpy as np\n",
        "# from keras.models import load_model\n",
        "\n",
        "# predicted_label = []\n",
        "# path = 'C:/Users/rihan/RAVDESS/test'  # Assuming your test data is in this directory\n",
        "# lst = []\n",
        "\n",
        "# # Load the trained model\n",
        "# model = load_model('./Emotion_Voice_Detection_Model_93.h5')  # Replace 'your_model.h5' with the path to your trained model\n",
        "\n",
        "\n",
        "# for file in X_test:\n",
        "#     # Check if the file ends with .wav\n",
        "    \n",
        "#     try:\n",
        "#         # Load audio file using librosa, compute MFCCs\n",
        "        \n",
        "#         # Predict emotion label using the loaded model\n",
        "#         predicted_emotion_label = model.predict_classes(file)[0]\n",
        "#         predicted_label.append(predicted_emotion_label)\n",
        "        \n",
        "#         # Assuming emotion labels are in the same format as true labels (e.g., 01 for Emotion1, etc.)\n",
        "#         # arr = mfccs, str(predicted_emotion_label).zfill(2)\n",
        "#         # lst.append(arr)\n",
        "        \n",
        "#     except (ValueError, FileNotFoundError, Exception) as e:\n",
        "#         # Handle specific errors during file processing\n",
        "#         print(f\"Error processing {file}: {e}\")\n",
        "#         continue\n"
      ]
    },
    {
      "cell_type": "code",
      "execution_count": null,
      "metadata": {},
      "outputs": [],
      "source": []
    },
    {
      "cell_type": "code",
      "execution_count": null,
      "metadata": {},
      "outputs": [],
      "source": []
    },
    {
      "cell_type": "code",
      "execution_count": null,
      "metadata": {},
      "outputs": [],
      "source": []
    },
    {
      "cell_type": "code",
      "execution_count": null,
      "metadata": {},
      "outputs": [],
      "source": []
    },
    {
      "cell_type": "code",
      "execution_count": null,
      "metadata": {},
      "outputs": [],
      "source": []
    },
    {
      "cell_type": "code",
      "execution_count": null,
      "metadata": {},
      "outputs": [],
      "source": []
    },
    {
      "cell_type": "code",
      "execution_count": null,
      "metadata": {},
      "outputs": [],
      "source": []
    },
    {
      "cell_type": "code",
      "execution_count": null,
      "metadata": {},
      "outputs": [],
      "source": []
    },
    {
      "cell_type": "code",
      "execution_count": null,
      "metadata": {},
      "outputs": [],
      "source": []
    },
    {
      "cell_type": "code",
      "execution_count": null,
      "metadata": {},
      "outputs": [],
      "source": []
    },
    {
      "cell_type": "code",
      "execution_count": null,
      "metadata": {},
      "outputs": [],
      "source": []
    },
    {
      "cell_type": "code",
      "execution_count": null,
      "metadata": {},
      "outputs": [],
      "source": []
    },
    {
      "cell_type": "code",
      "execution_count": null,
      "metadata": {},
      "outputs": [],
      "source": []
    },
    {
      "cell_type": "code",
      "execution_count": null,
      "metadata": {},
      "outputs": [],
      "source": []
    },
    {
      "cell_type": "code",
      "execution_count": null,
      "metadata": {},
      "outputs": [],
      "source": []
    },
    {
      "cell_type": "code",
      "execution_count": null,
      "metadata": {},
      "outputs": [],
      "source": []
    },
    {
      "cell_type": "code",
      "execution_count": null,
      "metadata": {},
      "outputs": [],
      "source": []
    },
    {
      "cell_type": "code",
      "execution_count": null,
      "metadata": {},
      "outputs": [],
      "source": []
    },
    {
      "cell_type": "code",
      "execution_count": null,
      "metadata": {},
      "outputs": [],
      "source": []
    },
    {
      "cell_type": "code",
      "execution_count": null,
      "metadata": {},
      "outputs": [],
      "source": []
    }
  ],
  "metadata": {
    "colab": {
      "collapsed_sections": [],
      "name": "EmotionsRecognition.ipynb",
      "provenance": [],
      "version": "0.3.2"
    },
    "kernelspec": {
      "display_name": "Python 3",
      "name": "python3"
    },
    "language_info": {
      "codemirror_mode": {
        "name": "ipython",
        "version": 3
      },
      "file_extension": ".py",
      "mimetype": "text/x-python",
      "name": "python",
      "nbconvert_exporter": "python",
      "pygments_lexer": "ipython3",
      "version": "3.8.17"
    }
  },
  "nbformat": 4,
  "nbformat_minor": 0
}
